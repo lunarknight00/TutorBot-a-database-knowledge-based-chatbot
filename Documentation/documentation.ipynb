{
 "cells": [
  {
   "cell_type": "code",
   "execution_count": 65,
   "metadata": {},
   "outputs": [],
   "source": [
    "import requests, bs4, selenium,time,csv, re"
   ]
  },
  {
   "cell_type": "code",
   "execution_count": 11,
   "metadata": {},
   "outputs": [],
   "source": [
    "browser = selenium.webdriver.Chrome()"
   ]
  },
  {
   "cell_type": "code",
   "execution_count": 47,
   "metadata": {},
   "outputs": [],
   "source": [
    "start_url = 'https://www.postgresql.org/docs/11/preface.html'\n",
    "tag = 'documentation'\n",
    "titles, content = list(), list()"
   ]
  },
  {
   "cell_type": "code",
   "execution_count": 101,
   "metadata": {
    "scrolled": true
   },
   "outputs": [],
   "source": [
    "browser.get(start_url)\n",
    "time.sleep(3)\n",
    "check = True\n",
    "\n",
    "filename = 'Documentation.csv'\n",
    "with open(filename, 'w',encoding='utf-8', newline='') as file:\n",
    "    fieldnames = [\"Source\", \"Question\", \"Reply\"]\n",
    "    writer = csv.DictWriter(file, fieldnames=fieldnames)\n",
    "    writer.writeheader()\n",
    "    while check:\n",
    "        page = browser.page_source\n",
    "        soup = bs4.BeautifulSoup(page,\"lxml\",)\n",
    "        soup.find(\"div\",{\"class\":\"navfooter\"}).extract()\n",
    "        try:\n",
    "            soup.find(\"div\",{\"class\":\"navheader\"}).extract()\n",
    "        except:  \n",
    "            pass\n",
    "        try:\n",
    "            text =soup.find(\"div\",{\"id\":\"docContent\"}).find_all(\"h1\",{\"class\":\"title\"})[0].get_text()\n",
    "        except:\n",
    "            text = soup.find(\"div\",{\"id\":\"docContent\"}).find_all(\"div\",{\"class\":\"titlepage\"})[0].get_text()\n",
    "        title = \" \".join([i for i in text.split() if not re.findall(\"[0-9]\",i)])\n",
    "        \n",
    "        if not soup.find(\"div\",{\"id\":\"docContent\"}).find(\"div\",{\"class\":\"sect1\"}):\n",
    "            context = \"%s\"%(soup.find(\"div\",{\"id\":\"docContent\"}))\n",
    "#             context =unicode(soup.find(\"div\",{\"id\":\"docContent\"}))\n",
    "        else:\n",
    "            context = \"%s\"%(soup.find(\"div\",{\"id\":\"docContent\"}).find(\"div\",{\"class\":\"sect1\"}))\n",
    "#             context =unicode(soup.find(\"div\",{\"id\":\"docContent\"}).find(\"div\",{\"class\":\"sect1\"}))\n",
    "        writer.writerow({\"Source\":\"Documentation\",\"Question\": title, \"Reply\":context})\n",
    "        try:\n",
    "            follow = browser.find_element_by_link_text('Next')\n",
    "            follow.click()\n",
    "            time.sleep(1)\n",
    "        except:\n",
    "            check = False"
   ]
  },
  {
   "cell_type": "code",
   "execution_count": 97,
   "metadata": {},
   "outputs": [],
   "source": [
    "filename = 'Documentation.csv'\n",
    "with open(filename, 'w',encoding='utf-8', newline='') as file:\n",
    "    fieldnames = [\"Source\", \"Question\", \"Reply\"]\n",
    "    writer = csv.DictWriter(file, fieldnames=fieldnames)\n",
    "    writer.writeheader()\n",
    "    for t, c in zip(titles, content):\n",
    "        writer.writerow({\"Source\":\"Documentation\",\"Question\": t, \"Reply\":c})"
   ]
  },
  {
   "cell_type": "code",
   "execution_count": 86,
   "metadata": {},
   "outputs": [
    {
     "name": "stdout",
     "output_type": "stream",
     "text": [
      "<div id=\"docContent\">\n",
      "<div class=\"navheader\" xmlns=\"http://www.w3.org/TR/xhtml1/transitional\">\n",
      "<table summary=\"Navigation header\" width=\"100%\">\n",
      "<tbody><tr>\n",
      "<th align=\"center\" colspan=\"5\">ALLOCATE DESCRIPTOR</th>\n",
      "</tr>\n",
      "<tr>\n",
      "<td align=\"left\" width=\"10%\"><a accesskey=\"p\" href=\"ecpg-sql-commands.html\" title=\"36.14. Embedded SQL Commands\">Prev</a> </td>\n",
      "<td align=\"left\" width=\"10%\"><a accesskey=\"u\" href=\"ecpg-sql-commands.html\" title=\"36.14. Embedded SQL Commands\">Up</a></td>\n",
      "<th align=\"center\" width=\"60%\">36.14. Embedded SQL Commands</th>\n",
      "<td align=\"right\" width=\"10%\"><a accesskey=\"h\" href=\"index.html\" title=\"PostgreSQL 11.2 Documentation\">Home</a></td>\n",
      "<td align=\"right\" width=\"10%\"> <a accesskey=\"n\" href=\"ecpg-sql-connect.html\" title=\"CONNECT\">Next</a></td>\n",
      "</tr>\n",
      "</tbody></table>\n",
      "<hr/>\n",
      "</div>\n",
      "<div class=\"refentry\" id=\"ECPG-SQL-ALLOCATE-DESCRIPTOR\">\n",
      "<div class=\"titlepage\"></div>\n",
      "<div class=\"refnamediv\">\n",
      "<h2>ALLOCATE DESCRIPTOR</h2>\n",
      "<p>ALLOCATE DESCRIPTOR — allocate an SQL descriptor area</p>\n",
      "</div>\n",
      "<div class=\"refsynopsisdiv\">\n",
      "<h2>Synopsis</h2>\n",
      "<pre class=\"synopsis\">ALLOCATE DESCRIPTOR <em class=\"replaceable\"><code>name</code></em>\n",
      "</pre>\n",
      "</div>\n",
      "<div class=\"refsect1\" id=\"id-1.7.5.20.3.3\">\n",
      "<h2>Description</h2>\n",
      "<p><code class=\"command\">ALLOCATE DESCRIPTOR</code> allocates a new named SQL descriptor area, which can be used to exchange data between the PostgreSQL server and the host program.</p>\n",
      "<p>Descriptor areas should be freed after use using the <code class=\"command\">DEALLOCATE DESCRIPTOR</code> command.</p>\n",
      "</div>\n",
      "<div class=\"refsect1\" id=\"id-1.7.5.20.3.4\">\n",
      "<h2>Parameters</h2>\n",
      "<div class=\"variablelist\">\n",
      "<dl class=\"variablelist\">\n",
      "<dt><span class=\"term\"><em class=\"replaceable\"><code>name</code></em></span></dt>\n",
      "<dd>\n",
      "<p>A name of SQL descriptor, case sensitive. This can be an SQL identifier or a host variable.</p>\n",
      "</dd>\n",
      "</dl>\n",
      "</div>\n",
      "</div>\n",
      "<div class=\"refsect1\" id=\"id-1.7.5.20.3.5\">\n",
      "<h2>Examples</h2>\n",
      "<pre class=\"programlisting\">EXEC SQL ALLOCATE DESCRIPTOR mydesc;\n",
      "</pre>\n",
      "</div>\n",
      "<div class=\"refsect1\" id=\"id-1.7.5.20.3.6\">\n",
      "<h2>Compatibility</h2>\n",
      "<p><code class=\"command\">ALLOCATE DESCRIPTOR</code> is specified in the SQL standard.</p>\n",
      "</div>\n",
      "<div class=\"refsect1\" id=\"id-1.7.5.20.3.7\">\n",
      "<h2>See Also</h2><span class=\"simplelist\"><a class=\"xref\" href=\"ecpg-sql-deallocate-descriptor.html\" title=\"DEALLOCATE DESCRIPTOR\">DEALLOCATE DESCRIPTOR</a>, <a class=\"xref\" href=\"ecpg-sql-get-descriptor.html\" title=\"GET DESCRIPTOR\">GET DESCRIPTOR</a>, <a class=\"xref\" href=\"ecpg-sql-set-descriptor.html\" title=\"SET DESCRIPTOR\">SET DESCRIPTOR</a></span>\n",
      "</div>\n",
      "</div>\n",
      "<div class=\"navfooter\">\n",
      "<hr/>\n",
      "<table summary=\"Navigation footer\" width=\"100%\">\n",
      "<tbody><tr>\n",
      "<td align=\"left\" width=\"40%\"><a accesskey=\"p\" href=\"ecpg-sql-commands.html\">Prev</a> </td>\n",
      "<td align=\"center\" width=\"20%\"><a accesskey=\"u\" href=\"ecpg-sql-commands.html\">Up</a></td>\n",
      "<td align=\"right\" width=\"40%\"> <a accesskey=\"n\" href=\"ecpg-sql-connect.html\">Next</a></td>\n",
      "</tr>\n",
      "<tr>\n",
      "<td align=\"left\" valign=\"top\" width=\"40%\">36.14. Embedded SQL Commands </td>\n",
      "<td align=\"center\" width=\"20%\"><a accesskey=\"h\" href=\"index.html\">Home</a></td>\n",
      "<td align=\"right\" valign=\"top\" width=\"40%\"> CONNECT</td>\n",
      "</tr>\n",
      "</tbody></table>\n",
      "</div>\n",
      "</div>\n",
      "ALLOCATE DESCRIPTOR\n"
     ]
    }
   ],
   "source": [
    "# soup.find_all(\"div\",{\"id\":\"docContent\"}).find_all(\"h1\",{\"class\":\"title\"})\n",
    "# url = \"https://www.postgresql.org/docs/11/intro-whatis.html\"\n",
    "url = \"https://www.postgresql.org/docs/11/ecpg-sql-allocate-descriptor.html\"\n",
    "\n",
    "browser.get(url)\n",
    "time.sleep(5)\n",
    "page = browser.page_source\n",
    "soup = bs4.BeautifulSoup(page,\"lxml\")\n",
    "try:\n",
    "    text = soup.find(\"div\",{\"id\":\"docContent\"}).find_all(\"h1\",{\"class\":\"title\"})[0].get_text()\n",
    "except:\n",
    "    try:\n",
    "        text = soup.find(\"div\",{\"id\":\"docContent\"}).find_all(\"h2\",{\"class\":\"title\"})[0].get_text()\n",
    "    except:\n",
    "        text = soup.find(\"div\",{\"id\":\"docContent\"}).find_all(\"h2\")[0].get_text()\n",
    "\n",
    "if not soup.find(\"div\",{\"id\":\"docContent\"}).find(\"div\",{\"class\":\"sect1\"}):\n",
    "    print(\"%s\"%(soup.find(\"div\",{\"id\":\"docContent\"})))\n",
    "    \n",
    "print(text)"
   ]
  },
  {
   "cell_type": "code",
   "execution_count": 45,
   "metadata": {},
   "outputs": [
    {
     "data": {
      "text/plain": [
       "'What is PostgreSQL?'"
      ]
     },
     "execution_count": 45,
     "metadata": {},
     "output_type": "execute_result"
    }
   ],
   "source": [
    "\" \".join([i for i in text.split()[1:] if not i.isdigit()])"
   ]
  }
 ],
 "metadata": {
  "kernelspec": {
   "display_name": "Python 3",
   "language": "python",
   "name": "python3"
  },
  "language_info": {
   "codemirror_mode": {
    "name": "ipython",
    "version": 3
   },
   "file_extension": ".py",
   "mimetype": "text/x-python",
   "name": "python",
   "nbconvert_exporter": "python",
   "pygments_lexer": "ipython3",
   "version": "3.7.3"
  }
 },
 "nbformat": 4,
 "nbformat_minor": 2
}
